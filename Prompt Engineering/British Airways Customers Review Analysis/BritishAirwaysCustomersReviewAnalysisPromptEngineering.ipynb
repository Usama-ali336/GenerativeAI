{
 "cells": [
  {
   "cell_type": "code",
   "execution_count": 1,
   "id": "d0024458",
   "metadata": {
    "height": 115
   },
   "outputs": [],
   "source": [
    "import openai\n",
    "import os\n",
    "from bs4 import BeautifulSoup\n",
    "import requests\n",
    "\n"
   ]
  },
  {
   "cell_type": "markdown",
   "metadata": {},
   "source": [
    "### Using OpenAI API"
   ]
  },
  {
   "cell_type": "code",
   "execution_count": 2,
   "id": "cbe348e8",
   "metadata": {
    "height": 81
   },
   "outputs": [],
   "source": [
    "\n",
    "from dotenv import load_dotenv, find_dotenv\n",
    "_ = load_dotenv(find_dotenv())\n",
    "\n",
    "openai.api_key  = os.getenv('OPENAI_API_KEY')"
   ]
  },
  {
   "cell_type": "code",
   "execution_count": 3,
   "id": "5476c76d",
   "metadata": {
    "height": 149
   },
   "outputs": [],
   "source": [
    "def get_completion(prompt, model=\"gpt-3.5-turbo\"):\n",
    "    messages = [{\"role\": \"user\", \"content\": prompt}]\n",
    "    response = openai.ChatCompletion.create(\n",
    "        model=model,\n",
    "        messages=messages,\n",
    "        temperature=0, # this is the degree of randomness of the model's output\n",
    "    )\n",
    "    return response.choices[0].message[\"content\"]"
   ]
  },
  {
   "cell_type": "code",
   "execution_count": 4,
   "id": "31a70173",
   "metadata": {
    "height": 404
   },
   "outputs": [],
   "source": [
    "def extract_customer_reviews(url):\n",
    "    \"\"\"\n",
    "    This function is extracting customer reviews\n",
    "    Args: url\n",
    "    Returns: reviews if succeceded\n",
    "    \"\"\"\n",
    "    # Send a GET request to the specified URL\n",
    "    response = requests.get(url)\n",
    "\n",
    "    # Check if the request was successful\n",
    "    if response.status_code == 200:\n",
    "        # Parse the HTML content of the page\n",
    "        soup = BeautifulSoup(response.text, 'html.parser')\n",
    "\n",
    "        # Extract customer reviews\n",
    "        reviews = soup.find_all('div', class_='text_content')\n",
    "\n",
    "        # Return the extracted reviews\n",
    "        return reviews\n",
    "    else:\n",
    "        # Handle error scenario\n",
    "        print(f\"Error: Unable to fetch reviews from URL {url}\")\n",
    "        return []"
   ]
  },
  {
   "cell_type": "code",
   "execution_count": null,
   "id": "176751f8",
   "metadata": {
    "height": 64
   },
   "outputs": [],
   "source": [
    "url = \"https://www.airlinequality.com/airline-reviews/british-airways\"\n",
    "reviews = extract_customer_reviews(url)\n",
    "print(reviews)"
   ]
  },
  {
   "cell_type": "code",
   "execution_count": null,
   "id": "95b74a94",
   "metadata": {
    "height": 64
   },
   "outputs": [],
   "source": [
    "#checking randomly any review\n",
    "reviews[3].get_text()\n",
    "# or "
   ]
  },
  {
   "cell_type": "code",
   "execution_count": null,
   "id": "4975dded",
   "metadata": {
    "height": 268
   },
   "outputs": [],
   "source": [
    "# the review taken from site contains the special symbols like ticks or cross for trip verification too, \n",
    "#so removing this part for sentiment analysis as this is not required \n",
    "processed_reviews=[]    \n",
    "for i, review in enumerate(reviews):\n",
    "        # Extract the review text\n",
    "        \n",
    "        review_text = review.get_text()\n",
    "        \n",
    "        # Split the text based on the '|' character and take the second part\n",
    "        review_part = review_text.split('|')[1].strip()\n",
    "        processed_reviews.append(review_part)\n",
    "        # Print the extracted review part\n",
    "        print(f\"Review {i + 1} Part:\")\n",
    "        print(processed_reviews)\n",
    "        print()"
   ]
  },
  {
   "cell_type": "markdown",
   "metadata": {},
   "source": [
    "### we begin our analysis without prompt engineering"
   ]
  },
  {
   "cell_type": "code",
   "execution_count": null,
   "id": "7ba08c60",
   "metadata": {
    "height": 200
   },
   "outputs": [],
   "source": [
    "\n",
    "example_indices = [3,5]\n",
    "\n",
    "for i,index in enumerate(example_indices):\n",
    "    \n",
    "    review = processed_reviews[index]\n",
    "    \n",
    "\n",
    "    response = get_completion(review)\n",
    "    print(f'Review {i}')\n",
    "    print(f'{response}\\n')"
   ]
  },
  {
   "cell_type": "markdown",
   "metadata": {},
   "source": [
    "### From results above we can see without explicit instruction model is unable to know our exact intentions hence here prompt engineering is neccessary"
   ]
  },
  {
   "cell_type": "markdown",
   "metadata": {},
   "source": [
    "### Here we are defining our phase 1 in which try to ask the classify the sentiment of passenger and the top two major problems faced by passenger"
   ]
  },
  {
   "cell_type": "code",
   "execution_count": null,
   "id": "08ef9370",
   "metadata": {
    "height": 574
   },
   "outputs": [],
   "source": [
    "# phase 1 \n",
    "example_indices = [3,5,6,8]\n",
    "stored_info = []\n",
    "\n",
    "for i,index in enumerate(example_indices):\n",
    "    \n",
    "    review = processed_reviews[index]\n",
    "    \n",
    "    prompt = f\"\"\"\n",
    "    You will be provided with a review delimeted by <>\n",
    "    First you need to identified the sentiment of the review. \\\n",
    "    In case of negative sentiment then identify the \\\n",
    "    top two problems no more than five words.\\\n",
    "    In case of positive sentiment then identify the reason\\\n",
    "    of satisfaction travelling with this airline with no more\\\n",
    "    five words.\n",
    "    The output should be alinged as per the sentiment of the review.\n",
    "    Output should looks like:\\\n",
    "    Sentiment:````\n",
    "    Reason of dissatisfaction/satisfaction:\n",
    "    1.```\n",
    "    2.```\n",
    "\n",
    "    \n",
    "    <{review}>\n",
    "    \n",
    "    \"\"\"\n",
    "    response = get_completion(prompt)\n",
    "    stored_info.append(response)\n",
    "    print(f'Review {i}')\n",
    "    print(f'{response}\\n')\n",
    "\n"
   ]
  },
  {
   "cell_type": "markdown",
   "metadata": {},
   "source": [
    "### Here we are trying to find the number of satisfied and dissatisfied customers"
   ]
  },
  {
   "cell_type": "code",
   "execution_count": null,
   "id": "234da401",
   "metadata": {
    "height": 625
   },
   "outputs": [],
   "source": [
    "# phase 2\n",
    "\n",
    " \n",
    "prompt = f\"\"\"\n",
    "You have given the list delimeted by <> \\\n",
    "This list contains the reason of satisfaction and\n",
    "dissatisfaction.\n",
    "Your task is to count the frequency of different satisfaction and dissatisfaction.\n",
    "<{stored_info}>\n",
    "    \n",
    "    \"\"\"\n",
    "overall_response = get_completion(prompt)\n",
    "#print(f'Review {i}')\n",
    "print(f'{overall_response}\\n')"
   ]
  },
  {
   "cell_type": "markdown",
   "metadata": {},
   "source": [
    "### In the phase 3 we try to achieve the frequency of different reasons of satisfaction and dissatisfaction"
   ]
  },
  {
   "cell_type": "code",
   "execution_count": null,
   "metadata": {},
   "outputs": [],
   "source": [
    "# Effort 1\n",
    "# phase 2 is in progress\n",
    "# phase 1 is acheived\n",
    "   \n",
    "prompt = f\"\"\"\n",
    "    \n",
    "    You have to count the reasons of satisfaction and dissatisfaction \\\n",
    "    present in {stored_info} lies in same category.\\\n",
    "    For example:\n",
    "    two phrases 'boarded on time' and 'on time' pointing to same conclusion\\\n",
    "    that is flight is on time, hence for any phrases which is pointing to\\\n",
    "    the same conclusion you need to rename with same words (not more than five words) for any such phrases.\\\n",
    "    Then count these similar phrases and place in the dictionary which has the key\\\n",
    "    containing phrase and value is the number of times that similar concluding words\\\n",
    "    appeared.\n",
    "    The output should be structered not by the review but by reason only as:\n",
    "    Reason ````: \n",
    "\n",
    "    \n",
    "    \"\"\"\n",
    "overall_response = get_completion(prompt)\n",
    "print(f'{overall_response}\\n')\n",
    "\n"
   ]
  },
  {
   "cell_type": "markdown",
   "metadata": {},
   "source": [
    "## Future prospect\n",
    "### Next task is to build the UI so that stakeholder can easily interact\n",
    "### And to build the pipeline which can handle the live information"
   ]
  }
 ],
 "metadata": {
  "kernelspec": {
   "display_name": "Python 3 (ipykernel)",
   "language": "python",
   "name": "python3"
  },
  "language_info": {
   "codemirror_mode": {
    "name": "ipython",
    "version": 3
   },
   "file_extension": ".py",
   "mimetype": "text/x-python",
   "name": "python",
   "nbconvert_exporter": "python",
   "pygments_lexer": "ipython3",
   "version": "3.9.16"
  }
 },
 "nbformat": 4,
 "nbformat_minor": 5
}
